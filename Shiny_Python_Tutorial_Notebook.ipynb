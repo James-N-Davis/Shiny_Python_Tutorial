{
 "cells": [
  {
   "cell_type": "markdown",
   "metadata": {},
   "source": [
    "# Introduction to Shiny for Python\n",
    "Shiny for Python allows you to build interactive web applications using Python. It serves as a powerful tool for data visualization, exploration, and more.\n"
   ]
  },
  {
   "cell_type": "code",
   "execution_count": null,
   "metadata": {},
   "outputs": [],
   "source": [
    "from shiny import App, ui\n",
    "\n",
    "# Part 1: ui ----\n",
    "app_ui = ui.page_fluid(\n",
    "    \"Hello, world!\",\n",
    ")\n",
    "\n",
    "# Part 2: server ----\n",
    "def server(input, output, session):\n",
    "    ...\n",
    "\n",
    "# Combine into a shiny app.\n",
    "# Note that the variable must be \"app\".\n",
    "app = App(app_ui, server)"
   ]
  },
  {
   "cell_type": "markdown",
   "metadata": {},
   "source": [
    "Okay cool, you can have the rest of the time back, Thanks for playing!\n",
    "\n",
    "\n",
    "![ChessUrl](https://upload.wikimedia.org/wikipedia/commons/7/71/ChessPawnSpecialMoves.gif \"chess\")"
   ]
  },
  {
   "cell_type": "markdown",
   "metadata": {},
   "source": [
    "## Ahh okay y'all want to see some stuff? Let's try a basic slider without any server or reactivity"
   ]
  },
  {
   "cell_type": "code",
   "execution_count": null,
   "metadata": {},
   "outputs": [],
   "source": [
    "from shiny import App, ui\n",
    "\n",
    "app_ui = ui.page_fluid(\n",
    "    ui.input_slider(\"n\", \"Choose a number n:\", 0, 100, 40),\n",
    "    ui.output_text_verbatim(\"txt\")\n",
    ")\n",
    "\n",
    "def server(input, output, session):\n",
    "    ...\n",
    "\n",
    "app = App(app_ui, server)"
   ]
  },
  {
   "cell_type": "markdown",
   "metadata": {},
   "source": [
    "## Epic! We can make an app with a UI without server logic but let's get reactive "
   ]
  },
  {
   "cell_type": "code",
   "execution_count": null,
   "metadata": {},
   "outputs": [],
   "source": [
    "from shiny import ui, render, App\n",
    "\n",
    "app_ui = ui.page_fluid(\n",
    "    ui.input_slider(\"n\", \"N\", 0, 100, 40),\n",
    "    ui.output_text_verbatim(\"txt\"),\n",
    ")\n",
    "\n",
    "def server(input, output, session):\n",
    "    @output\n",
    "    @render.text\n",
    "    def txt():\n",
    "        return f\"n*2 is {input.n() * 2}\"\n",
    "\n",
    "# This is a shiny.App object. It must be named `app`.\n",
    "app = App(app_ui, server)"
   ]
  },
  {
   "cell_type": "markdown",
   "metadata": {},
   "source": [
    "# Reactive Flow of Python for Shiny\n",
    "\n",
    "![ShinyReactive](https://shiny.posit.co/py/docs/assets/reactive-flow.svg \"Reactive_Flow\")"
   ]
  },
  {
   "cell_type": "markdown",
   "metadata": {},
   "source": [
    "## Wait a Min. Reactive Who?"
   ]
  },
  {
   "cell_type": "markdown",
   "metadata": {},
   "source": [
    "\n",
    "<iframe src=\"https://shiny.posit.co/py/docs/reactive-programming.html\" width=\"1200\" height=\"1000\"></iframe>"
   ]
  },
  {
   "cell_type": "markdown",
   "metadata": {},
   "source": [
    "## Cool, James, so what show some code examples "
   ]
  },
  {
   "cell_type": "code",
   "execution_count": null,
   "metadata": {},
   "outputs": [],
   "source": [
    "from shiny import App, render, ui\n",
    "\n",
    "app_ui = ui.page_fluid(\n",
    "    ui.input_select(\"x\", \"Select input\", {\"a\": \"Choice A\", \"b\": \"Choice B\"}),\n",
    "    ui.output_text_verbatim(\"txt\"),\n",
    ")\n",
    "\n",
    "\n",
    "def server(input, output, session):\n",
    "    @output\n",
    "    @render.text\n",
    "    def txt():\n",
    "        return f'x: \"{input.x()}\"'\n",
    "\n",
    "\n",
    "app = App(app_ui, server, debug=True)\n"
   ]
  },
  {
   "cell_type": "markdown",
   "metadata": {},
   "source": [
    "## Here is a basic application "
   ]
  },
  {
   "cell_type": "code",
   "execution_count": null,
   "metadata": {},
   "outputs": [],
   "source": [
    "# The shinyswatch package provides themes from https://bootswatch.com/\n",
    "\n",
    "import shinyswatch\n",
    "from shiny import App, Inputs, Outputs, Session, render, ui\n",
    "\n",
    "app_ui = ui.page_navbar(\n",
    "    # Available themes:\n",
    "    #  cerulean, cosmo, cyborg, darkly, flatly, journal, litera, lumen, lux,\n",
    "    #  materia, minty, morph, pulse, quartz, sandstone, simplex, sketchy, slate,\n",
    "    #  solar, spacelab, superhero, united, vapor, yeti, zephyr\n",
    "    shinyswatch.theme.flatly(),\n",
    "    ui.nav(\n",
    "        \"Navbar 1\",\n",
    "        ui.layout_sidebar(\n",
    "            ui.panel_sidebar(\n",
    "                ui.input_file(\"file\", \"File input:\"),\n",
    "                ui.input_text(\"txt\", \"Text input:\", \"general\"),\n",
    "                ui.input_slider(\"slider\", \"Slider input:\", 1, 100, 30),\n",
    "                ui.tags.h5(\"Default actionButton:\"),\n",
    "                ui.input_action_button(\"action\", \"Search\"),\n",
    "                ui.tags.h5(\"actionButton with CSS class:\"),\n",
    "                ui.input_action_button(\n",
    "                    \"action2\", \"Action button\", class_=\"btn-primary\"\n",
    "                ),\n",
    "            ),\n",
    "            ui.panel_main(\n",
    "                ui.navset_tab(\n",
    "                    ui.nav(\n",
    "                        \"Tab 1\",\n",
    "                        ui.tags.h4(\"Table\"),\n",
    "                        ui.output_table(\"table\"),\n",
    "                        ui.tags.h4(\"Verbatim text output\"),\n",
    "                        ui.output_text_verbatim(\"txtout\"),\n",
    "                        ui.tags.h1(\"Header 1\"),\n",
    "                        ui.tags.h2(\"Header 2\"),\n",
    "                        ui.tags.h3(\"Header 3\"),\n",
    "                        ui.tags.h4(\"Header 4\"),\n",
    "                        ui.tags.h5(\"Header 5\"),\n",
    "                    ),\n",
    "                    ui.nav(\"Tab 2\"),\n",
    "                    ui.nav(\"Tab 3\"),\n",
    "                )\n",
    "            ),\n",
    "        ),\n",
    "    ),\n",
    "    ui.nav(\"Plot\"),\n",
    "    ui.nav(\"Table\"),\n",
    "    title=\"Shinyswatch\",\n",
    ")\n",
    "\n",
    "\n",
    "def server(input: Inputs, output: Outputs, session: Session):\n",
    "    @output\n",
    "    @render.text\n",
    "    def txtout():\n",
    "        return f\"{input.txt()}, {input.slider()}, {input.slider()}\"\n",
    "\n",
    "    @output\n",
    "    @render.table\n",
    "    def table():\n",
    "        import pandas as pd\n",
    "\n",
    "        cars = pd.DataFrame(\n",
    "            {\n",
    "                \"speed\": [4, 4, 7, 7, 8, 9],\n",
    "                \"dist\": [2, 10, 4, 22, 16, 10],\n",
    "            }\n",
    "        )\n",
    "        return cars.head(4)\n",
    "\n",
    "\n",
    "app = App(app_ui, server)\n"
   ]
  },
  {
   "cell_type": "markdown",
   "metadata": {},
   "source": [
    "## Same application with a fancy drop down theme selector "
   ]
  },
  {
   "cell_type": "code",
   "execution_count": null,
   "metadata": {},
   "outputs": [],
   "source": [
    "# The shinyswatch package provides themes from https://bootswatch.com/\n",
    "\n",
    "import shinyswatch\n",
    "from shiny import App, Inputs, Outputs, Session, render, ui\n",
    "\n",
    "app_ui = ui.page_navbar(\n",
    "    # Available themes:\n",
    "    #  cerulean, cosmo, cyborg, darkly, flatly, journal, litera, lumen, lux,\n",
    "    #  materia, minty, morph, pulse, quartz, sandstone, simplex, sketchy, slate,\n",
    "    #  solar, spacelab, superhero, united, vapor, yeti, zephyr\n",
    "    shinyswatch.theme.superhero(),\n",
    "    ui.nav(\n",
    "        \"Navbar 1\",\n",
    "        ui.layout_sidebar(\n",
    "            ui.panel_sidebar(\n",
    "                ui.input_file(\"file\", \"File input:\"),\n",
    "                ui.input_text(\"txt\", \"Text input:\", \"general\"),\n",
    "                ui.input_slider(\"slider\", \"Slider input:\", 1, 100, 30),\n",
    "                ui.tags.h5(\"Default actionButton:\"),\n",
    "                ui.input_action_button(\"action\", \"Search\"),\n",
    "                ui.tags.h5(\"actionButton with CSS class:\"),\n",
    "                ui.input_action_button(\n",
    "                    \"action2\", \"Action button\", class_=\"btn-primary\"\n",
    "                ),\n",
    "            ),\n",
    "            ui.panel_main(\n",
    "                ui.navset_tab(\n",
    "                    ui.nav(\n",
    "                        \"Tab 1\",\n",
    "                        ui.tags.h4(\"Table\"),\n",
    "                        ui.output_table(\"table\"),\n",
    "                        ui.tags.h4(\"Verbatim text output\"),\n",
    "                        ui.output_text_verbatim(\"txtout\"),\n",
    "                        ui.tags.h1(\"Header 1\"),\n",
    "                        ui.tags.h2(\"Header 2\"),\n",
    "                        ui.tags.h3(\"Header 3\"),\n",
    "                        ui.tags.h4(\"Header 4\"),\n",
    "                        ui.tags.h5(\"Header 5\"),\n",
    "                    ),\n",
    "                    ui.nav(\"Tab 2\"),\n",
    "                    ui.nav(\"Tab 3\"),\n",
    "                )\n",
    "            ),\n",
    "        ),\n",
    "    ),\n",
    "    ui.nav(\"Plot\"),\n",
    "    ui.nav(\"Table\"),\n",
    "    title = (shinyswatch.theme_picker_ui(),\"Shiny\"),\n",
    ")\n",
    "\n",
    "shinyswatch.theme_picker_ui()\n",
    "def server(input: Inputs, output: Outputs, session: Session):\n",
    "\n",
    "    shinyswatch.theme_picker_server()\n",
    "    \n",
    "    @output\n",
    "    @render.text\n",
    "    def txtout():\n",
    "        return f\"{input.txt()}, {input.slider()}, {input.slider()}\"\n",
    "\n",
    "    @output\n",
    "    @render.table\n",
    "    def table():\n",
    "        import pandas as pd\n",
    "\n",
    "        cars = pd.DataFrame(\n",
    "            {\n",
    "                \"speed\": [4, 4, 7, 7, 8, 9],\n",
    "                \"dist\": [2, 10, 4, 22, 16, 10],\n",
    "            }\n",
    "        )\n",
    "        return cars.head(4)\n",
    "\n",
    "\n",
    "app = App(app_ui, server)\n"
   ]
  }
 ],
 "metadata": {
  "language_info": {
   "name": "python"
  },
  "orig_nbformat": 4
 },
 "nbformat": 4,
 "nbformat_minor": 2
}
