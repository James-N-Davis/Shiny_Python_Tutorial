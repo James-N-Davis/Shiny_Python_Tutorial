{
 "cells": [
  {
   "cell_type": "markdown",
   "metadata": {},
   "source": [
    "# Introduction to Shiny for Python\n",
    "Shiny for Python allows you to build interactive web applications using Python. It serves as a powerful tool for data visualization, exploration, and more.\n"
   ]
  },
  {
   "cell_type": "code",
   "execution_count": null,
   "metadata": {},
   "outputs": [],
   "source": [
    "from shiny import App, ui\n",
    "\n",
    "# Part 1: ui ----\n",
    "app_ui = ui.page_fluid(\n",
    "    \"Hello, world!\",\n",
    ")\n",
    "\n",
    "# Part 2: server ----\n",
    "def server(input, output, session):\n",
    "    ...\n",
    "\n",
    "# Combine into a shiny app.\n",
    "# Note that the variable must be \"app\".\n",
    "app = App(app_ui, server)"
   ]
  },
  {
   "cell_type": "markdown",
   "metadata": {},
   "source": [
    "Okay cool, you can have the rest of the time back, Thanks for playing!\n",
    "\n",
    "\n",
    "![ChessUrl](https://upload.wikimedia.org/wikipedia/commons/7/71/ChessPawnSpecialMoves.gif \"chess\")"
   ]
  },
  {
   "cell_type": "markdown",
   "metadata": {},
   "source": [
    "## Ahh okay y'all want to see some stuff? Let's try a basic slider without any server or reactivity"
   ]
  },
  {
   "cell_type": "code",
   "execution_count": null,
   "metadata": {},
   "outputs": [],
   "source": [
    "from shiny import App, ui\n",
    "\n",
    "app_ui = ui.page_fluid(\n",
    "    ui.input_slider(\"n\", \"Choose a number n:\", 0, 100, 40),\n",
    "    ui.output_text_verbatim(\"txt\")\n",
    ")\n",
    "\n",
    "def server(input, output, session):\n",
    "    ...\n",
    "\n",
    "app = App(app_ui, server)"
   ]
  },
  {
   "cell_type": "markdown",
   "metadata": {},
   "source": [
    "## Epic! We can make an app with a UI without server logic but let's get reactive "
   ]
  },
  {
   "cell_type": "code",
   "execution_count": null,
   "metadata": {},
   "outputs": [],
   "source": [
    "from shiny import ui, render, App\n",
    "\n",
    "app_ui = ui.page_fluid(\n",
    "    ui.input_slider(\"n\", \"N\", 0, 100, 40),\n",
    "    ui.output_text_verbatim(\"txt\"),\n",
    ")\n",
    "\n",
    "def server(input, output, session):\n",
    "    @output\n",
    "    @render.text\n",
    "    def txt():\n",
    "        return f\"n*2 is {input.n() * 2}\"\n",
    "\n",
    "# This is a shiny.App object. It must be named `app`.\n",
    "app = App(app_ui, server)"
   ]
  },
  {
   "cell_type": "markdown",
   "metadata": {},
   "source": [
    "# Reactive Flow of Python for Shiny\n",
    "\n",
    "![ShinyReactive](https://shiny.posit.co/py/docs/assets/reactive-flow.svg \"Reactive_Flow\")"
   ]
  },
  {
   "cell_type": "markdown",
   "metadata": {},
   "source": [
    "## Wait a Min. Reactive Who?"
   ]
  },
  {
   "cell_type": "markdown",
   "metadata": {},
   "source": [
    "\n",
    "<iframe src=\"https://shiny.posit.co/py/docs/reactive-programming.html\" width=\"1200\" height=\"1000\"></iframe>"
   ]
  },
  {
   "cell_type": "markdown",
   "metadata": {},
   "source": []
  }
 ],
 "metadata": {
  "language_info": {
   "name": "python"
  },
  "orig_nbformat": 4
 },
 "nbformat": 4,
 "nbformat_minor": 2
}
